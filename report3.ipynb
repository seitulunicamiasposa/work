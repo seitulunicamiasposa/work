{
 "cells": [
  {
   "cell_type": "code",
   "execution_count": 5,
   "metadata": {},
   "outputs": [],
   "source": [
    "import pandas as pd\n",
    "import matplotlib.pyplot as plt\n",
    "import os"
   ]
  },
  {
   "cell_type": "code",
   "execution_count": 6,
   "metadata": {},
   "outputs": [
    {
     "name": "stderr",
     "output_type": "stream",
     "text": [
      "C:\\Users\\A1149apulia\\AppData\\Local\\Temp\\ipykernel_9336\\630376407.py:1: DtypeWarning: Columns (19,20,21,50,51,104,105,106) have mixed types. Specify dtype option on import or set low_memory=False.\n",
      "  csv = pd.read_csv(\"ADNIMERGE_29Nov2024.csv\")\n"
     ]
    },
    {
     "data": {
      "text/plain": [
       "Index(['RID', 'COLPROT', 'ORIGPROT', 'PTID', 'SITE', 'VISCODE', 'EXAMDATE',\n",
       "       'DX_bl', 'AGE', 'PTGENDER',\n",
       "       ...\n",
       "       'PTAU_bl', 'FDG_bl', 'PIB_bl', 'AV45_bl', 'FBB_bl', 'Years_bl',\n",
       "       'Month_bl', 'Month', 'M', 'update_stamp'],\n",
       "      dtype='object', length=116)"
      ]
     },
     "execution_count": 6,
     "metadata": {},
     "output_type": "execute_result"
    }
   ],
   "source": [
    "csv = pd.read_csv(\"ADNIMERGE_29Nov2024.csv\")\n",
    "\n",
    "csv.columns"
   ]
  },
  {
   "cell_type": "markdown",
   "metadata": {},
   "source": [
    "APOE4: numero di alleli <br>\n",
    "ABETA: biomarcatore di neuroimaging x diagnosi dell'alzheimer <br>\n",
    "TAU e PTAU: CSF biomarcatori <br>\n",
    "FDG: la sostanza radioattiva più comunemente usata x la PET (uno zucchero semplice come il glucosio), il fluorodesossiglucosio. Viene iniettato nel flusso sanguigno e si accumula nel corpo dove emette energia. Questa energia viene rilevata dallo scanner PET che crea immagini che mostrano il funzionamento dei tessuti e degli organi. Un test di imaging di medicina nucleare in cui una sostanza leggermente radioattiva viene iniettata nel corpo e viene utilizzata per diagnosticare una varietà di malattie. <br>\n",
    "PIB: è un altro tracciante usato x la PET (Pittsburgh compound B). <br>\n",
    "AV45 e FBB <br>\n",
    "CDRSB: Clinical Dementia Rating Scale <br>\n",
    "ADAS11, ADAS13, ADASQ4: Alzheimer's Disease Assasment Scale <br>\n",
    "MMSE: Mini-Mental State Examination <br>\n",
    "RAVLT_imm, RAVLT_learn, RAVLT_forg, RAVLT_perc-forg: Rey's Auditory Verbal Learning Test <br>\n",
    "MOCA: Montreal Cognitive Assessment <br>\n",
    "ECog: The Measurement of Everyday Cognition <br>\n",
    "FSVERSION: software per di imaging cerebrale --> una serie di programmi x analizzare le scansioni di risonanze magnetiche.<br>\n",
    "IMAGEUID: è una tecnica di generazione di immagini usata prevalentemente a scopi diagnostici in campo medico."
   ]
  },
  {
   "cell_type": "markdown",
   "metadata": {},
   "source": [
    "SOCIO-AMBIENTALI: AGE, PTGENDER, PTEDUCAT, PTETHCAT, PTRACCAT, PTMARRY <br>\n",
    "PSICOLOGICHE: CDRSB, ADAS11, ADAS13, ADASQ4, MMSE, RAVLT_imm, RAVLT_forg, RAVLT_perc_forg, LDELTOTAL, DIGITSCOR, TRABSCOR, FAQ, MOCA, ECOGPTMEM, ECOGPTLANG, ECOGPTPLAN, ECOGPTORGAN, ECOGSPTTOTAL, ECOGPTVISSPAT, ECOGSPMEM, ECOGSPLANG, ECOGSPVISSAT, ECOGSPPLAN, ECOGSPORGAN, ECOGSPDIVATT, ECOGSPTOTAL <br>\n",
    "GENETICHE: APOE4; biomarkers: ABETA, TAU, PTAU <br>\n",
    "PET (TAC): FDG, PIB, AV45, FBB <br>\n",
    "MRI: FLDSTRENG, FSVERSION, IMAGEUID, Ventricles, Hippocampus, WholeBrain, Entorhinal, Fusiform, MidTemp, ICV <br>"
   ]
  },
  {
   "cell_type": "code",
   "execution_count": 7,
   "metadata": {},
   "outputs": [
    {
     "data": {
      "text/plain": [
       "np.int64(16198)"
      ]
     },
     "execution_count": 7,
     "metadata": {},
     "output_type": "execute_result"
    }
   ],
   "source": [
    "csv[\"PIB\"].isnull().sum()"
   ]
  },
  {
   "cell_type": "markdown",
   "metadata": {},
   "source": [
    "N.B. PIB 99% MISSING VALUES, AV45 81%, FBB 97%, ABETA 86%, TAU 86%, PTAU 86%"
   ]
  },
  {
   "cell_type": "code",
   "execution_count": null,
   "metadata": {},
   "outputs": [
    {
     "name": "stdout",
     "output_type": "stream",
     "text": [
      "Salvato: output\\socio_ambientali.csv\n",
      "Salvato: output\\psicologiche.csv\n",
      "Salvato: output\\genetiche.csv\n",
      "Salvato: output\\PET.csv\n",
      "Salvato: output\\MRI.csv\n"
     ]
    }
   ],
   "source": [
    "categories = {\n",
    "    \"socio_ambientali\": [\n",
    "        'PTID', 'VISCODE' 'AGE', 'PTGENDER', 'PTEDUCAT', \n",
    "        'PTETHCAT', 'PTRACCAT', 'PTMARRY'\n",
    "    ],\n",
    "    \"psicologiche\": [\n",
    "        'PTID', 'VISCODE', 'CDRSB', 'ADAS11', 'ADAS13', 'ADASQ4', 'MMSE', 'RAVLT_immediate', \n",
    "        'RAVLT_learning', 'RAVLT_forgetting', 'RAVLT_perc_forgetting', 'LDELTOTAL', \n",
    "        'DIGITSCOR', 'TRABSCOR', 'FAQ', 'MOCA', 'EcogPtMem', 'EcogPtLang', \n",
    "        'EcogPtVisspat', 'EcogPtPlan', 'EcogPtOrgan', 'EcogPtDivatt', 'EcogPtTotal', \n",
    "        'EcogSPMem', 'EcogSPLang', 'EcogSPVisspat', 'EcogSPPlan', 'EcogSPOrgan', \n",
    "        'EcogSPDivatt', 'EcogSPTotal', 'CDRSB_bl', 'ADAS11_bl', 'ADAS13_bl', \n",
    "        'ADASQ4_bl', 'MMSE_bl', 'RAVLT_immediate_bl', 'RAVLT_learning_bl', \n",
    "        'RAVLT_forgetting_bl', 'RAVLT_perc_forgetting_bl', 'LDELTOTAL_BL', \n",
    "        'DIGITSCOR_bl', 'TRABSCOR_bl', 'FAQ_bl', 'MOCA_bl', 'EcogPtMem_bl', \n",
    "        'EcogPtLang_bl', 'EcogPtVisspat_bl', 'EcogPtPlan_bl', 'EcogPtOrgan_bl', \n",
    "        'EcogPtDivatt_bl', 'EcogPtTotal_bl', 'EcogSPMem_bl', 'EcogSPLang_bl', \n",
    "        'EcogSPVisspat_bl', 'EcogSPPlan_bl', 'EcogSPOrgan_bl', 'EcogSPDivatt_bl', \n",
    "        'EcogSPTotal_bl'\n",
    "    ],\n",
    "    \"genetiche\": [\n",
    "        'PTID', 'VISCODE', 'APOE4', 'ABETA', 'TAU', 'PTAU', 'ABETA_bl', 'TAU_bl', 'PTAU_bl'\n",
    "    ],\n",
    "    \"PET\": [\n",
    "        'PTID', 'VISCODE', 'FDG', 'PIB', 'AV45', 'FBB', 'FDG_bl', 'PIB_bl', 'AV45_bl', 'FBB_bl'\n",
    "    ],\n",
    "    \"MRI\": [\n",
    "        'PTID', 'VISCODE', 'Ventricles', 'Hippocampus', 'WholeBrain', 'Entorhinal', 'Fusiform', \n",
    "        'MidTemp', 'ICV', 'Ventricles_bl', 'Hippocampus_bl', 'WholeBrain_bl', \n",
    "        'Entorhinal_bl', 'Fusiform_bl', 'MidTemp_bl', 'ICV_bl', 'IMAGEUID', \n",
    "        'IMAGEUID_bl', 'FLDSTRENG', 'FSVERSION', 'FLDSTRENG_bl', 'FSVERSION_bl'\n",
    "    ]\n",
    "}\n",
    "\n",
    "# Funzione per salvare i 5 sotto-dataset\n",
    "def split_and_save(csv, categories, output_dir=\"output\"):\n",
    "    # Crea la directory di output se non esiste\n",
    "    os.makedirs(output_dir, exist_ok=True)  \n",
    "    \n",
    "    for category_name, columns in categories.items():\n",
    "        # Filtra le colonne \n",
    "        valid_columns = [col for col in columns if col in csv.columns]\n",
    "        if valid_columns:\n",
    "            # Crea il sotto-dataset\n",
    "            subset = csv[valid_columns]\n",
    "            # Salva il sotto-dataset in un file CSV (che contiene solo le colonne pertinenti)\n",
    "            output_path = os.path.join(output_dir, f\"{category_name}.csv\")\n",
    "            subset.to_csv(output_path, index=False)\n",
    "            print(f\"Salvato: {output_path}\")\n",
    "        else:\n",
    "            # se nel dataset non ci sono le colonne pertinenti\n",
    "            print(f\"Nessuna colonna pertinente trovata per la rispettiva  categoria: {category_name}\")\n",
    "\n",
    "# Esegui lo splitting e salva i file\n",
    "split_and_save(csv, categories)"
   ]
  }
 ],
 "metadata": {
  "kernelspec": {
   "display_name": ".venv",
   "language": "python",
   "name": "python3"
  },
  "language_info": {
   "codemirror_mode": {
    "name": "ipython",
    "version": 3
   },
   "file_extension": ".py",
   "mimetype": "text/x-python",
   "name": "python",
   "nbconvert_exporter": "python",
   "pygments_lexer": "ipython3",
   "version": "3.13.2"
  }
 },
 "nbformat": 4,
 "nbformat_minor": 2
}
