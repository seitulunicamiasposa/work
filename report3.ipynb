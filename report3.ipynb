{
 "cells": [
  {
   "cell_type": "code",
   "execution_count": 9,
   "metadata": {},
   "outputs": [],
   "source": [
    "import pandas as pd\n",
    "import matplotlib.pyplot as plt\n",
    "import os"
   ]
  },
  {
   "cell_type": "code",
   "execution_count": 10,
   "metadata": {},
   "outputs": [
    {
     "name": "stderr",
     "output_type": "stream",
     "text": [
      "C:\\Users\\A1149apulia\\AppData\\Local\\Temp\\ipykernel_26428\\630376407.py:1: DtypeWarning: Columns (19,20,21,50,51,104,105,106) have mixed types. Specify dtype option on import or set low_memory=False.\n",
      "  csv = pd.read_csv(\"ADNIMERGE_29Nov2024.csv\")\n"
     ]
    },
    {
     "data": {
      "text/plain": [
       "Index(['RID', 'COLPROT', 'ORIGPROT', 'PTID', 'SITE', 'VISCODE', 'EXAMDATE',\n",
       "       'DX_bl', 'AGE', 'PTGENDER',\n",
       "       ...\n",
       "       'PTAU_bl', 'FDG_bl', 'PIB_bl', 'AV45_bl', 'FBB_bl', 'Years_bl',\n",
       "       'Month_bl', 'Month', 'M', 'update_stamp'],\n",
       "      dtype='object', length=116)"
      ]
     },
     "execution_count": 10,
     "metadata": {},
     "output_type": "execute_result"
    }
   ],
   "source": [
    "csv = pd.read_csv(\"ADNIMERGE_29Nov2024.csv\")\n",
    "\n",
    "csv.columns"
   ]
  },
  {
   "cell_type": "markdown",
   "metadata": {},
   "source": [
    "<b>ANALISI DELLE FEATURES</b>"
   ]
  },
  {
   "cell_type": "markdown",
   "metadata": {},
   "source": [
    "<b>APOE4</b>: il gene <i>APOE</i> è fattore di rischio per l'Alzheimer, presente nel cromosoma 19. La Variante 4 è associata, nello specifico, a un rischio più alto di sviluppare la malattia. <br>\n",
    "La combinazione dei <u>3 biomarkers</u> aumenta l'accuratezza diagnostica:<br>\n",
    "<b>ABETA</b>: biomarcatore di neuroimaging x diagnosi dell'alzheimer. Indica la presenza di beta-amiloide nel cervello (un accumulo di cui è caratteristica l'Alzheimer). L'accumulo avviene nella corteccia, nel bulbo olfattivo e nell'ippocampo. <br>\n",
    "<b>TAU</b>: proteina (prodotta naturalmente dall'organismo che contribuisce al funzionamento dei neuroni), per monitorare il decorso della malattia<br>\n",
    "<b>PTAU</b>: forma fosforilata (anomala) della proteina TAU. Può monitorare la transizione tra il decadimento cognitivo lieve (MCI) e la demenza. La PTAU è considerata la più utile per la ricerca e l'uso clinico. Quindi è la più studiata per la diagnosi precoce di Alzheimer. La misura di tale proteina si misura col <i>CSF</i> (un test immunologico). Identifica i pazienti con rischio di progressione verso l'Alzheimer. <br>\n",
    "Tali marcatori proteici possono essere utilizzati per supportare la diagnosi differenziale delle demenze in uno stadio precoce. <br> \n",
    "<b>TRABSCORE</b>: un esame del sangue per la misurazione della quantità di anticorpi relativi alla tiroide<br>\n",
    "<b>FDG</b>: la sostanza radioattiva (radiofarmaco da somministrare per via endovenosa) più comunemente usata x la <i>PET</i> (uno zucchero semplice come il glucosio), il <u>fluorodesossiglucosio</u>. Viene iniettato nel flusso sanguigno e si accumula nel corpo dove emette energia. Questa energia viene rilevata dallo scanner PET che crea immagini che mostrano il funzionamento dei tessuti e degli organi. Un test di imaging di medicina nucleare in cui una sostanza leggermente radioattiva viene iniettata nel corpo e viene utilizzata per diagnosticare una varietà di malattie. Questo esame di medicina nucleare permette di valutare il metabolismo di un organo/tessuto. Però oltre a valutare il comportmaneto metabolico di un tumore, per esempio, serve per valutare malattie neurodegenerative (Alzheimer o Demenza). <br>\n",
    "<b>PIB</b>: è un altro tracciante usato x la PET (Pittsburgh compound B). <br>\n",
    "<b>AV45</b> e <b>FBB</b><br>\n",
    "<b>CDRSB</b>: Clinical Dementia Rating Scale <br>\n",
    "<b>ADAS11, ADAS13, ADASQ4</b>: Alzheimer's Disease Assessment Scale <br>\n",
    "<b>MMSE</b>: Mini-Mental State Examination <br>\n",
    "<b>RAVLT_imm, RAVLT_learn, RAVLT_forg, RAVLT_perc-forg</b>: Rey's Auditory Verbal Learning Test <br>\n",
    "<b>MOCA</b>: Montreal Cognitive Assessment <br>\n",
    "<b>ECog</b>: The Measurement of Everyday Cognition <br>\n",
    "<b>mPACCdigit</b>: the Predictional/Preclinical Alzheimer Cognitive Composite con Digit Symbol Test <br>\n",
    "<b>mPACCtrailsB</b>: con trail test B neuropsicologico sulla capacità di seguire numeri e lettere<br>\n",
    "<b>DIGITSCORE</b>: test neuropsicologico che misura la memoria di lavoro a breve termine. Vengono presentati dei numeri in sequenza, il soggetto deve ripetere i numeri nello stesso ordine: se riesce, un altro numero viene aggiunto alla sequenza; se sbaglia, perde una possibilità. <br>\n",
    "<b>TRABSCORE</b>: Trail Making Test, parte B.<br>\n",
    "<b>LDELTOTAL</b>: Logical Memory<br>\n",
    "<b>FLDSTRENG</b>: MRI Field Strength -> the field strength of an MRI scanner is measured in teslas (T) and refers to the strength of the magnet inside the scanner. <br>\n",
    "<b>FSVERSION</b>: software di imaging cerebrale --> una serie di programmi x analizzare le scansioni di risonanze magnetiche.<br>\n",
    "<b>IMAGEUID</b>: è una tecnica di generazione di immagini usata prevalentemente a scopi diagnostici in campo medico."
   ]
  },
  {
   "cell_type": "markdown",
   "metadata": {},
   "source": [
    "<b>CATEGORIE</b><br>\n",
    "<i>SOCIO-AMBIENTALI</i>: AGE, PTGENDER, PTEDUCAT, PTETHCAT, PTRACCAT, PTMARRY <br>\n",
    "<i>PSICOLOGICHE</i>: CDRSB, ADAS11, ADAS13, ADASQ4, MMSE, RAVLT_imm, RAVLT_forg, RAVLT_perc_forg, LDELTOTAL, DIGITSCOR, TRABSCOR, FAQ, MOCA, ECOGPTMEM, ECOGPTLANG, ECOGPTPLAN, ECOGPTORGAN, ECOGSPTTOTAL, ECOGPTVISSPAT, ECOGSPMEM, ECOGSPLANG, ECOGSPVISSAT, ECOGSPPLAN, ECOGSPORGAN, ECOGSPDIVATT, ECOGSPTOTAL, mPACCdigit, mPACCtrailsB <br>\n",
    "<i>GENETICHE/BIOMARCATORI</i>: APOE4; <u>biomarkers non strettamente genetici</u>: ABETA, TAU, PTAU <br>\n",
    "<i>PET (TAC)</i>: FDG, PIB, AV45, FBB <br>\n",
    "<i>MRI</i>: FLDSTRENG, FSVERSION, IMAGEUID, Ventricles, Hippocampus, WholeBrain, Entorhinal, Fusiform, MidTemp, ICV <br>\n",
    "<i>6^ CATEGORIA</i>: PTID, VISCODE, DX"
   ]
  },
  {
   "cell_type": "markdown",
   "metadata": {},
   "source": [
    "Considerazioni finali: FLDSTRENG, FSVERSION e IMAGEU vanno droppate dalla categoria MRI."
   ]
  },
  {
   "cell_type": "code",
   "execution_count": 11,
   "metadata": {},
   "outputs": [
    {
     "data": {
      "text/plain": [
       "np.int64(16198)"
      ]
     },
     "execution_count": 11,
     "metadata": {},
     "output_type": "execute_result"
    }
   ],
   "source": [
    "csv[\"PIB\"].isnull().sum()"
   ]
  },
  {
   "cell_type": "markdown",
   "metadata": {},
   "source": [
    "<b>N.B.</b><br> \n",
    "PIB 99% MISSING VALUES, <br>\n",
    "AV45 81% M.V., <br>\n",
    "FBB 97% M.V., <br>\n",
    "ABETA 86% M.V., <br>\n",
    "TAU 86% M.V., <br>\n",
    "PTAU 86% M.V <br>\n",
    "Probabilmente, queste colonne verranno droppate perchè superano la soglia dell'80% di missing values."
   ]
  },
  {
   "cell_type": "code",
   "execution_count": 12,
   "metadata": {},
   "outputs": [
    {
     "name": "stdout",
     "output_type": "stream",
     "text": [
      "Salvato: output2\\socio_ambientali.csv\n",
      "Salvato: output2\\psicologiche.csv\n",
      "Salvato: output2\\genetiche.csv\n",
      "Salvato: output2\\PET.csv\n",
      "Salvato: output2\\MRI.csv\n",
      "Salvato: output2\\6^CATEGORIA.csv\n"
     ]
    }
   ],
   "source": [
    "#un dizionario di tutte le sotto-categorie\n",
    "categories = {\n",
    "    \"socio_ambientali\": [\n",
    "        'PTID', 'VISCODE' 'AGE', 'PTGENDER', 'PTEDUCAT', \n",
    "        'PTETHCAT', 'PTRACCAT', 'PTMARRY'\n",
    "    ],\n",
    "    \"psicologiche\": [\n",
    "        'PTID', 'VISCODE', 'CDRSB', 'ADAS11', 'ADAS13', 'ADASQ4', 'MMSE', 'RAVLT_immediate', \n",
    "        'RAVLT_learning', 'RAVLT_forgetting', 'RAVLT_perc_forgetting', 'LDELTOTAL', \n",
    "        'DIGITSCOR', 'TRABSCOR', 'FAQ', 'MOCA', 'EcogPtMem', 'EcogPtLang', \n",
    "        'EcogPtVisspat', 'EcogPtPlan', 'EcogPtOrgan', 'EcogPtDivatt', 'EcogPtTotal', \n",
    "        'EcogSPMem', 'EcogSPLang', 'EcogSPVisspat', 'EcogSPPlan', 'EcogSPOrgan', \n",
    "        'EcogSPDivatt', 'EcogSPTotal', 'mPACCdigit', 'mPACCtrailsB', \n",
    "        'CDRSB_bl', 'ADAS11_bl', 'ADAS13_bl', 'ADASQ4_bl', 'MMSE_bl', 'RAVLT_immediate_bl', 'RAVLT_learning_bl', \n",
    "        'RAVLT_forgetting_bl', 'RAVLT_perc_forgetting_bl', 'LDELTOTAL_BL', \n",
    "        'DIGITSCOR_bl', 'TRABSCOR_bl', 'FAQ_bl', 'MOCA_bl', 'EcogPtMem_bl', \n",
    "        'EcogPtLang_bl', 'EcogPtVisspat_bl', 'EcogPtPlan_bl', 'EcogPtOrgan_bl', \n",
    "        'EcogPtDivatt_bl', 'EcogPtTotal_bl', 'EcogSPMem_bl', 'EcogSPLang_bl', \n",
    "        'EcogSPVisspat_bl', 'EcogSPPlan_bl', 'EcogSPOrgan_bl', 'EcogSPDivatt_bl', \n",
    "        'EcogSPTotal_bl'\n",
    "    ],\n",
    "    \"genetiche\": [\n",
    "        'PTID', 'VISCODE', 'APOE4', 'ABETA', 'TAU', 'PTAU',\n",
    "        'ABETA_bl', 'TAU_bl', 'PTAU_bl',\n",
    "    ],\n",
    "    \"PET\": [\n",
    "        'PTID', 'VISCODE', 'FDG', 'PIB', 'AV45', 'FBB', 'FDG_bl', 'PIB_bl', 'AV45_bl', 'FBB_bl'\n",
    "    ],\n",
    "    \"MRI\": [\n",
    "        'PTID', 'VISCODE', 'Ventricles', 'Hippocampus', 'WholeBrain', 'Entorhinal', 'Fusiform', \n",
    "        'MidTemp', 'ICV', 'Ventricles_bl', 'Hippocampus_bl', 'WholeBrain_bl', \n",
    "        'Entorhinal_bl', 'Fusiform_bl', 'MidTemp_bl', 'ICV_bl'\n",
    "        #'IMAGEUID', 'IMAGEUID_bl', 'FLDSTRENG', 'FSVERSION', 'FLDSTRENG_bl', 'FSVERSION_bl'\n",
    "    ],\n",
    "    \"6^CATEGORIA\": [\n",
    "        'PTID', 'VISCODE', 'DX'\n",
    "    ]\n",
    "}\n",
    "\n",
    "#def split_and_save(csv, categories, output_dir=\"output\"):\n",
    "    # Crea la directory di output se non esiste\n",
    "#    os.makedirs(output_dir, exist_ok=True)  \n",
    "    \n",
    "#    for category_name, columns in categories.items():\n",
    "        # Filtra le colonne \n",
    "#        valid_columns = [col for col in columns if col in csv.columns]\n",
    "#        if valid_columns:\n",
    "#            # Crea il sotto-dataset\n",
    "#            subset = csv[valid_columns]\n",
    "#            # Salva il sotto-dataset in un file CSV (che contiene solo le colonne pertinenti)\n",
    "#            output_path = os.path.join(output_dir, f\"{category_name}.csv\")\n",
    "#            subset.to_csv(output_path, index=False)\n",
    "#            print(f\"Salvato: {output_path}\")\n",
    "#        else:\n",
    "            # se nel dataset non ci sono le colonne pertinenti\n",
    "#            print(f\"Nessuna colonna pertinente trovata per la rispettiva  categoria: {category_name}\")\n",
    "\n",
    "# Esegui lo splitting e salva i file\n",
    "#split_and_save(csv, categories)\n",
    "\n",
    "def split(csv, categories):\n",
    "    output = {}\n",
    "    for category_name, columns in categories.items():\n",
    "        # Filtro le colonne che esistono nel dataset\n",
    "        valid_columns = [col for col in columns if col in csv.columns]\n",
    "        if valid_columns:\n",
    "            output[category_name] = csv[valid_columns]\n",
    "        else:\n",
    "            print(f\"Nessuna colonna pertinente trovata per la categoria: {category_name}\")\n",
    "    return output\n",
    "\n",
    "def save(subsets, output_dir=\"output2\"):\n",
    "    # Crea la directory di output se non esiste\n",
    "    os.makedirs(output_dir, exist_ok=True)  \n",
    "    \n",
    "    for category_name, subset in subsets.items():\n",
    "        # Salva il sotto-dataset in un file CSV nella directory\n",
    "        output_path = os.path.join(output_dir, f\"{category_name}.csv\")\n",
    "        subset.to_csv(output_path, index=False)\n",
    "        print(f\"Salvato: {output_path}\")\n",
    "\n",
    "output = split(csv, categories)\n",
    "\n",
    "save(output, output_dir=\"output2\")"
   ]
  }
 ],
 "metadata": {
  "kernelspec": {
   "display_name": ".venv",
   "language": "python",
   "name": "python3"
  },
  "language_info": {
   "codemirror_mode": {
    "name": "ipython",
    "version": 3
   },
   "file_extension": ".py",
   "mimetype": "text/x-python",
   "name": "python",
   "nbconvert_exporter": "python",
   "pygments_lexer": "ipython3",
   "version": "3.13.2"
  }
 },
 "nbformat": 4,
 "nbformat_minor": 2
}
